{
  "nbformat": 4,
  "nbformat_minor": 0,
  "metadata": {
    "colab": {
      "name": "RPS_n_guess_game.ipynb",
      "version": "0.3.2",
      "provenance": [],
      "collapsed_sections": [],
      "include_colab_link": true
    },
    "kernelspec": {
      "name": "python3",
      "display_name": "Python 3"
    }
  },
  "cells": [
    {
      "cell_type": "markdown",
      "metadata": {
        "id": "view-in-github",
        "colab_type": "text"
      },
      "source": [
        "<a href=\"https://colab.research.google.com/github/alexgeorge90/Python_course/blob/master/RPS_n_guess_game.ipynb\" target=\"_parent\"><img src=\"https://colab.research.google.com/assets/colab-badge.svg\" alt=\"Open In Colab\"/></a>"
      ]
    },
    {
      "cell_type": "code",
      "metadata": {
        "id": "2_K0AxDyWhQd",
        "colab_type": "code",
        "colab": {}
      },
      "source": [
        "#Program to create R,P,S game\n",
        "import random\n",
        "play = 'Yes'\n",
        "while play == 'Yes':\n",
        "  PlayerInput = input('Please type rock,paper or scissor as per your choice') \n",
        "  Valid_List = ['rock','paper','scissor']\n",
        "  CompInput = random.choice(Valid_List)\n",
        "  Combination = PlayerInput+CompInput\n",
        "  print('The system selected ' + CompInput)\n",
        "  #f'The system selected {CompInput}' -- didnt work\n",
        "  Win_Combination = ['paperrock','rockscissor','scissorpaper']\n",
        "  if PlayerInput in Valid_List:\n",
        "    if Combination in Win_Combination:\n",
        "      print('Player Wins')\n",
        "    elif PlayerInput == CompInput:\n",
        "      print(\"It's a draw\")\n",
        "    else:\n",
        "      print('The system wins')\n",
        "  else:\n",
        "    print('The value selected by player is invalid')\n",
        "  play = input('Please type Yes/No if you want to play again')"
      ],
      "execution_count": 0,
      "outputs": []
    },
    {
      "cell_type": "code",
      "metadata": {
        "id": "c6xFP-e8bX2i",
        "colab_type": "code",
        "colab": {}
      },
      "source": [
        "#Program to create guessing game by division\n",
        "play = 'Value Not Found'\n",
        "first_num = 0\n",
        "last_num = 100\n",
        "PlayerInput = input('Please select a value between 0 -100')\n",
        "while play == 'Value Not Found':\n",
        "  system_num = int((first_num + last_num)/2)\n",
        "  print('Is the value selected by player' + str(system_num))\n",
        "  play = input('If not please type as Value Not Found')\n",
        "  if play == 'Value Not Found':\n",
        "    direction = input('Please type whether the value is higher or lower ')\n",
        "    if direction == 'higher':\n",
        "      first_num = system_num\n",
        "    else:\n",
        "      last_num = system_num\n",
        "    "
      ],
      "execution_count": 0,
      "outputs": []
    },
    {
      "cell_type": "code",
      "metadata": {
        "id": "CQjUA3_YI2i-",
        "colab_type": "code",
        "colab": {}
      },
      "source": [
        "#Program to create guessing game by division/random selection. No. of rounds could increase manifold\n",
        "import random\n",
        "play = 'Value Not Found'\n",
        "first_num = 0\n",
        "last_num = 100\n",
        "PlayerInput = input('Please select a value between 0 -100')\n",
        "while play == 'Value Not Found':\n",
        "  Valid_List = range(first_num,last_num)\n",
        "  system_num = random.choice(Valid_List)\n",
        "  print('Is the value selected by player' + str(system_num))\n",
        "  play = input('If not please type as Value Not Found')\n",
        "  if play == 'Value Not Found':\n",
        "    direction = input('Please type whether the value is higher or lower ')\n",
        "    if direction == 'higher':\n",
        "      first_num = system_num\n",
        "    else:\n",
        "      last_num = system_num"
      ],
      "execution_count": 0,
      "outputs": []
    },
    {
      "cell_type": "markdown",
      "metadata": {
        "id": "geNMvPS_YY9N",
        "colab_type": "text"
      },
      "source": [
        ""
      ]
    }
  ]
}