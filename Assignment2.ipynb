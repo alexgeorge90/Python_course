{
  "nbformat": 4,
  "nbformat_minor": 0,
  "metadata": {
    "colab": {
      "name": "Assignment2.ipynb",
      "version": "0.3.2",
      "provenance": [],
      "collapsed_sections": [],
      "include_colab_link": true
    },
    "kernelspec": {
      "name": "python3",
      "display_name": "Python 3"
    }
  },
  "cells": [
    {
      "cell_type": "markdown",
      "metadata": {
        "id": "view-in-github",
        "colab_type": "text"
      },
      "source": [
        "<a href=\"https://colab.research.google.com/github/alexgeorge90/Python_course/blob/master/Assignment2.ipynb\" target=\"_parent\"><img src=\"https://colab.research.google.com/assets/colab-badge.svg\" alt=\"Open In Colab\"/></a>"
      ]
    },
    {
      "cell_type": "code",
      "metadata": {
        "id": "7JeDF06SQKib",
        "colab_type": "code",
        "colab": {
          "base_uri": "https://localhost:8080/",
          "height": 35
        },
        "outputId": "b7f29a2b-c5db-4c7d-ca48-07b5c82e5bfa"
      },
      "source": [
        "def maximum(x,y,z):\n",
        "  if ((x > y) & (x > z)):\n",
        "    return x\n",
        "  elif y > z:\n",
        "    return y\n",
        "  else:\n",
        "    return z\n",
        "maximum(10,3,4) "
      ],
      "execution_count": 4,
      "outputs": [
        {
          "output_type": "execute_result",
          "data": {
            "text/plain": [
              "10"
            ]
          },
          "metadata": {
            "tags": []
          },
          "execution_count": 4
        }
      ]
    },
    {
      "cell_type": "code",
      "metadata": {
        "id": "ZeBA7tGJSH2G",
        "colab_type": "code",
        "colab": {
          "base_uri": "https://localhost:8080/",
          "height": 35
        },
        "outputId": "ef3cc1cb-ca0c-42b2-a10e-4f848f8b6e30"
      },
      "source": [
        "def addition(*args):\n",
        "  return sum(args)\n",
        "\n",
        "addition(5,3,5,3)"
      ],
      "execution_count": 5,
      "outputs": [
        {
          "output_type": "execute_result",
          "data": {
            "text/plain": [
              "16"
            ]
          },
          "metadata": {
            "tags": []
          },
          "execution_count": 5
        }
      ]
    },
    {
      "cell_type": "code",
      "metadata": {
        "id": "LqAfl0AXSYUI",
        "colab_type": "code",
        "colab": {
          "base_uri": "https://localhost:8080/",
          "height": 35
        },
        "outputId": "e72dcfbf-908d-4575-f4d6-daf85560a86a"
      },
      "source": [
        "def reverse_string(x):\n",
        "  \n",
        "  return x[::-1]\n",
        "  #return x.reverse()\n",
        "\n",
        "reverse_string('reredd')"
      ],
      "execution_count": 9,
      "outputs": [
        {
          "output_type": "execute_result",
          "data": {
            "text/plain": [
              "'dderer'"
            ]
          },
          "metadata": {
            "tags": []
          },
          "execution_count": 9
        }
      ]
    },
    {
      "cell_type": "code",
      "metadata": {
        "id": "oJF3Nvr4TXg6",
        "colab_type": "code",
        "colab": {
          "base_uri": "https://localhost:8080/",
          "height": 35
        },
        "outputId": "14a31c71-5a82-4180-b117-de7016f8a263"
      },
      "source": [
        "def letter_case(x):\n",
        "  i = 0\n",
        "  lower = 0\n",
        "  upper = 0\n",
        "  for i in range(0,len(x)):\n",
        "    if x[i].isupper():\n",
        "      upper = upper +1\n",
        "    else:\n",
        "      lower = lower +1\n",
        "  return('The lowecase letters are '+str(lower) + ' and the uppercase letters are '+str(upper))  \n",
        "letter_case('fdsfsdfSDFFE')"
      ],
      "execution_count": 18,
      "outputs": [
        {
          "output_type": "execute_result",
          "data": {
            "text/plain": [
              "'The lowecase letters are 7 and the uppercase letters are 5'"
            ]
          },
          "metadata": {
            "tags": []
          },
          "execution_count": 18
        }
      ]
    },
    {
      "cell_type": "code",
      "metadata": {
        "id": "_3UI3u-pWZ0G",
        "colab_type": "code",
        "colab": {
          "base_uri": "https://localhost:8080/",
          "height": 35
        },
        "outputId": "3a2ad40d-269f-4be0-b15c-7a3d533a6f76"
      },
      "source": [
        "def unique_elements(x):\n",
        "  return set(x)\n",
        "\n",
        "list_one = [1,2,3,4,3,4,5]\n",
        "unique_elements(list_one)"
      ],
      "execution_count": 22,
      "outputs": [
        {
          "output_type": "execute_result",
          "data": {
            "text/plain": [
              "{1, 2, 3, 4, 5}"
            ]
          },
          "metadata": {
            "tags": []
          },
          "execution_count": 22
        }
      ]
    },
    {
      "cell_type": "code",
      "metadata": {
        "id": "YWoX5gqkW0Sq",
        "colab_type": "code",
        "colab": {
          "base_uri": "https://localhost:8080/",
          "height": 35
        },
        "outputId": "a3511586-eae4-4b62-e999-b04ebda8e3e2"
      },
      "source": [
        "def pallindrome(x):\n",
        "  \n",
        "  y = x[::-1]\n",
        "  if y == x:\n",
        "    result = 'Yes,its a pallindrome'\n",
        "  else:\n",
        "    result = 'No,its not a pallindrome'\n",
        "    #return x.reverse()\n",
        "    \n",
        "  return(result)\n",
        "\n",
        "pallindrome('121')"
      ],
      "execution_count": 27,
      "outputs": [
        {
          "output_type": "execute_result",
          "data": {
            "text/plain": [
              "'Yes,its a pallindrome'"
            ]
          },
          "metadata": {
            "tags": []
          },
          "execution_count": 27
        }
      ]
    },
    {
      "cell_type": "code",
      "metadata": {
        "id": "yUf9DXLPTXSP",
        "colab_type": "code",
        "colab": {}
      },
      "source": [
        ""
      ],
      "execution_count": 0,
      "outputs": []
    }
  ]
}