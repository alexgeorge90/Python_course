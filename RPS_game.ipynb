{
  "nbformat": 4,
  "nbformat_minor": 0,
  "metadata": {
    "colab": {
      "name": "RPS_game.ipynb",
      "version": "0.3.2",
      "provenance": [],
      "collapsed_sections": []
    },
    "kernelspec": {
      "name": "python3",
      "display_name": "Python 3"
    }
  },
  "cells": [
    {
      "cell_type": "code",
      "metadata": {
        "id": "2_K0AxDyWhQd",
        "colab_type": "code",
        "colab": {
          "base_uri": "https://localhost:8080/",
          "height": 85
        },
        "outputId": "53b18a18-3bf8-432c-a5a8-13f3192004de"
      },
      "source": [
        "#Program to create R,P,S game\n",
        "import random\n",
        "play = 'Yes'\n",
        "while play == 'Yes':\n",
        "  PlayerInput = input('Please type rock,paper or scissor as per your choice') \n",
        "  Valid_List = ['rock','paper','scissor']\n",
        "  CompInput = random.choice(Valid_List)\n",
        "  Combination = PlayerInput+CompInput\n",
        "  print('The system selected ' + CompInput)\n",
        "  #f'The system selected {CompInput}' -- didnt work\n",
        "  Win_Combination = ['paperrock','rockscissor','scissorpaper']\n",
        "  if Combination in Win_Combination:\n",
        "    print('Player Wins')\n",
        "  elif PlayerInput == CompInput:\n",
        "    print(\"It's a draw\")\n",
        "  else:\n",
        "    print('The system wins')\n",
        "  play = input('Please type Yes/No if you want to play again')"
      ],
      "execution_count": 45,
      "outputs": [
        {
          "output_type": "stream",
          "text": [
            "Please type rock,paper or scissor as per your choicerock\n",
            "The system selected scissor\n",
            "Player Wins\n",
            "Please type Yes/No if you want to play againNo\n"
          ],
          "name": "stdout"
        }
      ]
    },
    {
      "cell_type": "markdown",
      "metadata": {
        "id": "geNMvPS_YY9N",
        "colab_type": "text"
      },
      "source": [
        ""
      ]
    }
  ]
}